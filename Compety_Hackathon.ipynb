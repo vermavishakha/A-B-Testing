{
 "cells": [
  {
   "cell_type": "markdown",
   "id": "64fa5128-a3e6-4fa4-90bd-4c27880355ad",
   "metadata": {},
   "source": [
    "# Importing the libraries"
   ]
  },
  {
   "cell_type": "code",
   "execution_count": 3,
   "id": "9c3238dd-ef55-44dc-8c21-79e890f15b43",
   "metadata": {},
   "outputs": [],
   "source": [
    "import pandas as pd\n",
    "import numpy as np\n",
    "import openpyxl\n",
    "import seaborn as sns\n",
    "import matplotlib.pyplot as plt\n",
    "import missingno as msno\n",
    "from scipy.stats import chi2_contingency\n",
    "from imblearn.over_sampling import RandomOverSampler\n",
    "from imblearn.under_sampling import RandomUnderSampler\n",
    "from sklearn.model_selection import train_test_split"
   ]
  },
  {
   "cell_type": "markdown",
   "id": "17699787-aa55-4ca3-8692-3f825f1dbc2f",
   "metadata": {},
   "source": [
    "# Loading the data"
   ]
  },
  {
   "cell_type": "code",
   "execution_count": 4,
   "id": "0d276226-84c6-427c-8d1b-a39d6762f8db",
   "metadata": {},
   "outputs": [],
   "source": [
    "df = pd.read_excel(\"Hackathon Dataset Cleaned up.xlsx\", engine = \"openpyxl\", dtype={\n",
    "    \"event_id\": str,\n",
    "    \"session_id\": str,\n",
    "    \"user_id\": str,\n",
    "    \"shop_id\": str,\n",
    "    \"variation\": str,\n",
    "    \"platform\": str    \n",
    "})\n"
   ]
  },
  {
   "cell_type": "markdown",
   "id": "7ae15083-8edf-4860-a826-e9b6dc3a1050",
   "metadata": {},
   "source": [
    "# Understanding the dataset"
   ]
  },
  {
   "cell_type": "code",
   "execution_count": 8,
   "id": "75767b7d-7212-4410-b5b1-c2ae9996f9c6",
   "metadata": {},
   "outputs": [
    {
     "name": "stdout",
     "output_type": "stream",
     "text": [
      "<class 'pandas.core.frame.DataFrame'>\n",
      "RangeIndex: 326921 entries, 0 to 326920\n",
      "Data columns (total 9 columns):\n",
      " #   Column              Non-Null Count   Dtype         \n",
      "---  ------              --------------   -----         \n",
      " 0   event_id            326921 non-null  object        \n",
      " 1   session_id          326921 non-null  object        \n",
      " 2   user_id             326921 non-null  object        \n",
      " 3   variation           326921 non-null  object        \n",
      " 4   platform            326921 non-null  object        \n",
      " 5   datetime_event      326921 non-null  datetime64[ns]\n",
      " 6   event_type          326921 non-null  object        \n",
      " 7   final_order_status  170632 non-null  object        \n",
      " 8   shop_id             315842 non-null  object        \n",
      "dtypes: datetime64[ns](1), object(8)\n",
      "memory usage: 22.4+ MB\n",
      "None\n"
     ]
    }
   ],
   "source": [
    "print(df.info())"
   ]
  },
  {
   "cell_type": "code",
   "execution_count": 10,
   "id": "b10a0a0e-3ee0-49bf-95eb-ef09d80efb77",
   "metadata": {},
   "outputs": [
    {
     "data": {
      "text/html": [
       "<div>\n",
       "<style scoped>\n",
       "    .dataframe tbody tr th:only-of-type {\n",
       "        vertical-align: middle;\n",
       "    }\n",
       "\n",
       "    .dataframe tbody tr th {\n",
       "        vertical-align: top;\n",
       "    }\n",
       "\n",
       "    .dataframe thead th {\n",
       "        text-align: right;\n",
       "    }\n",
       "</style>\n",
       "<table border=\"1\" class=\"dataframe\">\n",
       "  <thead>\n",
       "    <tr style=\"text-align: right;\">\n",
       "      <th></th>\n",
       "      <th>event_id</th>\n",
       "      <th>session_id</th>\n",
       "      <th>user_id</th>\n",
       "      <th>variation</th>\n",
       "      <th>platform</th>\n",
       "      <th>datetime_event</th>\n",
       "      <th>event_type</th>\n",
       "      <th>final_order_status</th>\n",
       "      <th>shop_id</th>\n",
       "    </tr>\n",
       "  </thead>\n",
       "  <tbody>\n",
       "    <tr>\n",
       "      <th>0</th>\n",
       "      <td>63527610</td>\n",
       "      <td>6391574</td>\n",
       "      <td>762832</td>\n",
       "      <td>2</td>\n",
       "      <td>Android</td>\n",
       "      <td>2024-11-30 16:23:46.391</td>\n",
       "      <td>entry_to_shop</td>\n",
       "      <td>successful</td>\n",
       "      <td>8531</td>\n",
       "    </tr>\n",
       "    <tr>\n",
       "      <th>1</th>\n",
       "      <td>12446736</td>\n",
       "      <td>6391574</td>\n",
       "      <td>762832</td>\n",
       "      <td>2</td>\n",
       "      <td>Android</td>\n",
       "      <td>2024-11-30 16:26:16.876</td>\n",
       "      <td>order_paid</td>\n",
       "      <td>successful</td>\n",
       "      <td>8531</td>\n",
       "    </tr>\n",
       "    <tr>\n",
       "      <th>2</th>\n",
       "      <td>90232698</td>\n",
       "      <td>6391574</td>\n",
       "      <td>762832</td>\n",
       "      <td>2</td>\n",
       "      <td>Android</td>\n",
       "      <td>2024-11-30 16:50:44.827</td>\n",
       "      <td>order_finished</td>\n",
       "      <td>successful</td>\n",
       "      <td>8531</td>\n",
       "    </tr>\n",
       "    <tr>\n",
       "      <th>3</th>\n",
       "      <td>74183469</td>\n",
       "      <td>9246026</td>\n",
       "      <td>762832</td>\n",
       "      <td>2</td>\n",
       "      <td>Android</td>\n",
       "      <td>2024-11-29 13:21:28.729</td>\n",
       "      <td>reload_the_page</td>\n",
       "      <td>NaN</td>\n",
       "      <td>6186</td>\n",
       "    </tr>\n",
       "    <tr>\n",
       "      <th>4</th>\n",
       "      <td>16360628</td>\n",
       "      <td>9246026</td>\n",
       "      <td>762832</td>\n",
       "      <td>2</td>\n",
       "      <td>Android</td>\n",
       "      <td>2024-11-29 13:21:35.214</td>\n",
       "      <td>entry_to_shop</td>\n",
       "      <td>NaN</td>\n",
       "      <td>6186</td>\n",
       "    </tr>\n",
       "  </tbody>\n",
       "</table>\n",
       "</div>"
      ],
      "text/plain": [
       "   event_id session_id user_id variation platform          datetime_event  \\\n",
       "0  63527610    6391574  762832         2  Android 2024-11-30 16:23:46.391   \n",
       "1  12446736    6391574  762832         2  Android 2024-11-30 16:26:16.876   \n",
       "2  90232698    6391574  762832         2  Android 2024-11-30 16:50:44.827   \n",
       "3  74183469    9246026  762832         2  Android 2024-11-29 13:21:28.729   \n",
       "4  16360628    9246026  762832         2  Android 2024-11-29 13:21:35.214   \n",
       "\n",
       "        event_type final_order_status shop_id  \n",
       "0    entry_to_shop         successful    8531  \n",
       "1       order_paid         successful    8531  \n",
       "2   order_finished         successful    8531  \n",
       "3  reload_the_page                NaN    6186  \n",
       "4    entry_to_shop                NaN    6186  "
      ]
     },
     "execution_count": 10,
     "metadata": {},
     "output_type": "execute_result"
    }
   ],
   "source": [
    "df.head()\n"
   ]
  },
  {
   "cell_type": "markdown",
   "id": "2dbf2f15-fefe-4620-a924-39447d882ee2",
   "metadata": {},
   "source": [
    "# Handling Missing Values"
   ]
  },
  {
   "cell_type": "code",
   "execution_count": 13,
   "id": "998c271f-9e7b-4cd9-a70c-d0a7fcdedb7a",
   "metadata": {},
   "outputs": [
    {
     "name": "stdout",
     "output_type": "stream",
     "text": [
      "event_id                   0\n",
      "session_id                 0\n",
      "user_id                    0\n",
      "variation                  0\n",
      "platform                   0\n",
      "datetime_event             0\n",
      "event_type                 0\n",
      "final_order_status    156289\n",
      "shop_id                11079\n",
      "dtype: int64\n"
     ]
    },
    {
     "data": {
      "image/png": "[encoded data removed]",
      "text/plain": [
       "<Figure size 2500x1000 with 2 Axes>"
      ]
     },
     "metadata": {},
     "output_type": "display_data"
    }
   ],
   "source": [
    "print(df.isnull().sum())\n",
    "msno.matrix(df)\n",
    "plt.show()"
   ]
  },
  {
   "cell_type": "code",
   "execution_count": 15,
   "id": "686c43cc-c08e-4489-b90f-a44bda5fcfbf",
   "metadata": {},
   "outputs": [],
   "source": [
    "df[\"shop_id\"].fillna(\"unknown\", inplace=True)"
   ]
  },
  {
   "cell_type": "code",
   "execution_count": 17,
   "id": "f23a790f-2f8b-49da-835f-545b4c87a4bb",
   "metadata": {},
   "outputs": [
    {
     "name": "stdout",
     "output_type": "stream",
     "text": [
      "event_id                   0\n",
      "session_id                 0\n",
      "user_id                    0\n",
      "variation                  0\n",
      "platform                   0\n",
      "datetime_event             0\n",
      "event_type                 0\n",
      "final_order_status    156289\n",
      "shop_id                    0\n",
      "dtype: int64\n"
     ]
    },
    {
     "data": {
      "image/png": "[encoded data removed]",
      "text/plain": [
       "<Figure size 2500x1000 with 2 Axes>"
      ]
     },
     "metadata": {},
     "output_type": "display_data"
    }
   ],
   "source": [
    "print(df.isnull().sum())\n",
    "msno.matrix(df)\n",
    "plt.show()"
   ]
  },
  {
   "cell_type": "markdown",
   "id": "f3dbc3a3-aa0d-42f3-969a-72394557e754",
   "metadata": {},
   "source": [
    "# Normalize text columns (strip spaces, convert to lowercase)"
   ]
  },
  {
   "cell_type": "code",
   "execution_count": 19,
   "id": "92482710-a008-4b84-a1be-0b611021a11e",
   "metadata": {},
   "outputs": [],
   "source": [
    "df[\"platform\"] = df[\"platform\"].str.strip().str.lower()\n",
    "df[\"event_type\"] = df[\"event_type\"].str.strip().str.lower()\n",
    "df[\"final_order_status\"] = df[\"final_order_status\"].str.strip().str.lower()"
   ]
  },
  {
   "cell_type": "markdown",
   "id": "eb9fff7e-4202-447d-a169-d5a93ea09ae7",
   "metadata": {},
   "source": [
    "# Exploratory Data Analysis"
   ]
  },
  {
   "cell_type": "code",
   "execution_count": 77,
   "id": "5da9d2bc-75ef-4f9d-83a9-f7c8f44a474b",
   "metadata": {},
   "outputs": [
    {
     "name": "stdout",
     "output_type": "stream",
     "text": [
      "Total Orders: 52418\n",
      "Conversion Rate: 42.34%\n",
      "Success Rate (Orders Completed Successfully): 85.58%\n",
      "Cancellation/Refund Rate: 14.42%\n"
     ]
    }
   ],
   "source": [
    "total_users = df[\"user_id\"].nunique()\n",
    "\n",
    "# Total Orders: Count of 'order_paid' events\n",
    "df_orders = df[df[\"event_type\"] == \"order_paid\"]\n",
    "total_orders = df_orders.shape[0]\n",
    "\n",
    "# Conversion Rate: % of users who placed an order\n",
    "users_with_orders = df_orders[\"user_id\"].nunique()\n",
    "conversion_rate = (users_with_orders / total_users) * 100\n",
    "\n",
    "# Success Rate: % of successfully completed orders\n",
    "successful_orders = df_orders[df_orders[\"final_order_status\"]==\"successful\"].shape[0]\n",
    "success_rate = (successful_orders / total_orders) * 100\n",
    "\n",
    "# Cancellation/Refund Rate: % of canceled or refunded orders\n",
    "canceled_orders = df_orders[df_orders[\"final_order_status\"].isin([\"cancelled\", \"refunded_after_delivery\"])].shape[0]\n",
    "cancellation_rate = (canceled_orders / total_orders) * 100\n",
    "\n",
    "# Print the results\n",
    "print(f\"Total Orders: {total_orders}\")\n",
    "print(f\"Conversion Rate: {conversion_rate:.2f}%\")\n",
    "print(f\"Success Rate (Orders Completed Successfully): {success_rate:.2f}%\")\n",
    "print(f\"Cancellation/Refund Rate: {cancellation_rate:.2f}%\")"
   ]
  },
  {
   "cell_type": "code",
   "execution_count": null,
   "id": "f9086b63-ceba-4deb-bff3-01d3a6659449",
   "metadata": {},
   "outputs": [],
   "source": []
  },
  {
   "cell_type": "markdown",
   "id": "c5ed88b8-5d03-4018-9a27-24dc76c487d4",
   "metadata": {},
   "source": [
    "# Count total users per variation"
   ]
  },
  {
   "cell_type": "code",
   "execution_count": 24,
   "id": "a2500d54-b2a0-4751-bc22-a61eb7677b8f",
   "metadata": {},
   "outputs": [
    {
     "data": {
      "text/plain": [
       "variation\n",
       "1    65000\n",
       "2    35000\n",
       "Name: user_id, dtype: int64"
      ]
     },
     "execution_count": 24,
     "metadata": {},
     "output_type": "execute_result"
    }
   ],
   "source": [
    "total_users = df.groupby(\"variation\")[\"user_id\"].nunique()\n",
    "total_users"
   ]
  },
  {
   "cell_type": "markdown",
   "id": "2d7ea86a-5fb6-496c-92aa-f963cc16d3f6",
   "metadata": {},
   "source": [
    "### The dataset seems to be imbalanced as it is 65%-35% distributed. It should be arround 50%-50%."
   ]
  },
  {
   "cell_type": "markdown",
   "id": "726f5409-233d-4b05-8c03-c650cec33087",
   "metadata": {},
   "source": [
    "# Count users who placed an order"
   ]
  },
  {
   "cell_type": "code",
   "execution_count": null,
   "id": "c9d4d69f-79f0-4caa-adc3-5e5956f379c0",
   "metadata": {},
   "outputs": [],
   "source": []
  },
  {
   "cell_type": "code",
   "execution_count": 32,
   "id": "0a50a2ec-cd42-47af-9966-4c686cb80e81",
   "metadata": {},
   "outputs": [
    {
     "data": {
      "text/plain": [
       "variation\n",
       "1    27568\n",
       "2    14770\n",
       "Name: user_id, dtype: int64"
      ]
     },
     "execution_count": 32,
     "metadata": {},
     "output_type": "execute_result"
    }
   ],
   "source": [
    "orders = df[df[\"event_type\"] == \"order_paid\"].groupby(\"variation\")['user_id'].nunique()\n",
    "orders"
   ]
  },
  {
   "attachments": {},
   "cell_type": "markdown",
   "id": "b3999114-f5ce-44c8-bd7e-2b8a76f9b47a",
   "metadata": {},
   "source": [
    "# Conversion Rate Analysis\n",
    "### Conversion rate = (Users who placed an order / Total users) × 100"
   ]
  },
  {
   "cell_type": "code",
   "execution_count": 34,
   "id": "e42e0d71-e6b7-4ea8-b155-1ce08e5caecd",
   "metadata": {},
   "outputs": [
    {
     "name": "stdout",
     "output_type": "stream",
     "text": [
      "Conversion Rates:\n",
      "variation\n",
      "1    42.412308\n",
      "2    42.200000\n",
      "Name: user_id, dtype: float64\n"
     ]
    }
   ],
   "source": [
    "conversion_rate = (orders / total_users) * 100\n",
    "print(\"Conversion Rates:\")\n",
    "print(conversion_rate)"
   ]
  },
  {
   "cell_type": "markdown",
   "id": "88afd766-3732-4bf6-9dc9-be151cc9f032",
   "metadata": {},
   "source": [
    "### The difference is very small (-0.21%), suggesting that larger images may not have significantly improved conversion rates. \n",
    "\n",
    "\n",
    "\n",
    "# Statistical significance test for conversion rates:\n",
    "\n",
    "#### The p-value tells us if the difference between Control and Test groups is statistically significant.\n",
    "\n",
    "#### If p < 0.05, the test is significant\r\n",
    "\r\n",
    "\r\n"
   ]
  },
  {
   "cell_type": "code",
   "execution_count": 39,
   "id": "cc6cfd75-4c29-457b-806b-cdd1d776313b",
   "metadata": {},
   "outputs": [
    {
     "data": {
      "text/html": [
       "<div>\n",
       "<style scoped>\n",
       "    .dataframe tbody tr th:only-of-type {\n",
       "        vertical-align: middle;\n",
       "    }\n",
       "\n",
       "    .dataframe tbody tr th {\n",
       "        vertical-align: top;\n",
       "    }\n",
       "\n",
       "    .dataframe thead th {\n",
       "        text-align: right;\n",
       "    }\n",
       "</style>\n",
       "<table border=\"1\" class=\"dataframe\">\n",
       "  <thead>\n",
       "    <tr style=\"text-align: right;\">\n",
       "      <th></th>\n",
       "      <th>Converted</th>\n",
       "      <th>Not Converted</th>\n",
       "    </tr>\n",
       "    <tr>\n",
       "      <th>variation</th>\n",
       "      <th></th>\n",
       "      <th></th>\n",
       "    </tr>\n",
       "  </thead>\n",
       "  <tbody>\n",
       "    <tr>\n",
       "      <th>1</th>\n",
       "      <td>27568</td>\n",
       "      <td>37432</td>\n",
       "    </tr>\n",
       "    <tr>\n",
       "      <th>2</th>\n",
       "      <td>14770</td>\n",
       "      <td>20230</td>\n",
       "    </tr>\n",
       "  </tbody>\n",
       "</table>\n",
       "</div>"
      ],
      "text/plain": [
       "           Converted  Not Converted\n",
       "variation                          \n",
       "1              27568          37432\n",
       "2              14770          20230"
      ]
     },
     "execution_count": 39,
     "metadata": {},
     "output_type": "execute_result"
    }
   ],
   "source": [
    "contingency_table = pd.DataFrame({\n",
    "    \"Converted\": orders,\n",
    "    \"Not Converted\": total_users - orders\n",
    "})\n",
    "contingency_table"
   ]
  },
  {
   "cell_type": "code",
   "execution_count": 41,
   "id": "bb2e5411-b7e8-4b0f-a4df-938c4eaa493c",
   "metadata": {},
   "outputs": [
    {
     "name": "stdout",
     "output_type": "stream",
     "text": [
      "p-value (Conversion Rate): 0.521264540186136\n"
     ]
    }
   ],
   "source": [
    "chi2, p_value, _, _ = chi2_contingency(contingency_table)\n",
    "print(\"p-value (Conversion Rate):\", p_value)"
   ]
  },
  {
   "cell_type": "markdown",
   "id": "1764820d-0d3f-4098-84cd-e4e32fa7cb68",
   "metadata": {},
   "source": [
    "### p-value: 0.521 (greater than 0.05)\n",
    "### This means there is no statistically significant difference between the two groups.\n",
    "### Larger images did not significantly impact order conversion rates\n",
    "\n",
    "\n",
    "\n",
    "### However, I do not trust on this data since the dataset is imbalanced, so the group 1 has dominance in the result.\n",
    "\n",
    "### I will use stratified sampling to ensure a balanced distribution of users across variations while maintaining the same proportion of subgroups (e.g., platform type)\n",
    "\n",
    "# Stratified Sampling"
   ]
  },
  {
   "cell_type": "code",
   "execution_count": 47,
   "id": "6de173dd-b314-4885-80cb-f47a53212e5d",
   "metadata": {},
   "outputs": [
    {
     "data": {
      "text/html": [
       "<div>\n",
       "<style scoped>\n",
       "    .dataframe tbody tr th:only-of-type {\n",
       "        vertical-align: middle;\n",
       "    }\n",
       "\n",
       "    .dataframe tbody tr th {\n",
       "        vertical-align: top;\n",
       "    }\n",
       "\n",
       "    .dataframe thead th {\n",
       "        text-align: right;\n",
       "    }\n",
       "</style>\n",
       "<table border=\"1\" class=\"dataframe\">\n",
       "  <thead>\n",
       "    <tr style=\"text-align: right;\">\n",
       "      <th></th>\n",
       "      <th>event_id</th>\n",
       "      <th>session_id</th>\n",
       "      <th>user_id</th>\n",
       "      <th>variation</th>\n",
       "      <th>platform</th>\n",
       "      <th>datetime_event</th>\n",
       "      <th>event_type</th>\n",
       "      <th>final_order_status</th>\n",
       "      <th>shop_id</th>\n",
       "    </tr>\n",
       "  </thead>\n",
       "  <tbody>\n",
       "    <tr>\n",
       "      <th>23</th>\n",
       "      <td>28832464</td>\n",
       "      <td>4207544</td>\n",
       "      <td>529563</td>\n",
       "      <td>1</td>\n",
       "      <td>ios</td>\n",
       "      <td>2024-11-26 17:15:05.734</td>\n",
       "      <td>entry_to_shop</td>\n",
       "      <td>NaN</td>\n",
       "      <td>1124</td>\n",
       "    </tr>\n",
       "    <tr>\n",
       "      <th>33</th>\n",
       "      <td>81752941</td>\n",
       "      <td>2489036</td>\n",
       "      <td>656956</td>\n",
       "      <td>1</td>\n",
       "      <td>ios</td>\n",
       "      <td>2024-11-29 20:23:18.714</td>\n",
       "      <td>entry_to_shop</td>\n",
       "      <td>NaN</td>\n",
       "      <td>1380</td>\n",
       "    </tr>\n",
       "    <tr>\n",
       "      <th>34</th>\n",
       "      <td>78363104</td>\n",
       "      <td>3538169</td>\n",
       "      <td>656956</td>\n",
       "      <td>1</td>\n",
       "      <td>ios</td>\n",
       "      <td>2024-11-28 17:08:35.986</td>\n",
       "      <td>entry_to_shop</td>\n",
       "      <td>cancelled</td>\n",
       "      <td>7076</td>\n",
       "    </tr>\n",
       "    <tr>\n",
       "      <th>35</th>\n",
       "      <td>35545979</td>\n",
       "      <td>3538169</td>\n",
       "      <td>656956</td>\n",
       "      <td>1</td>\n",
       "      <td>ios</td>\n",
       "      <td>2024-11-28 17:14:05.333</td>\n",
       "      <td>order_paid</td>\n",
       "      <td>cancelled</td>\n",
       "      <td>7076</td>\n",
       "    </tr>\n",
       "    <tr>\n",
       "      <th>36</th>\n",
       "      <td>82457777</td>\n",
       "      <td>3538169</td>\n",
       "      <td>656956</td>\n",
       "      <td>1</td>\n",
       "      <td>ios</td>\n",
       "      <td>2024-11-28 18:00:12.197</td>\n",
       "      <td>order_finished</td>\n",
       "      <td>cancelled</td>\n",
       "      <td>7076</td>\n",
       "    </tr>\n",
       "  </tbody>\n",
       "</table>\n",
       "</div>"
      ],
      "text/plain": [
       "    event_id session_id user_id variation platform          datetime_event  \\\n",
       "23  28832464    4207544  529563         1      ios 2024-11-26 17:15:05.734   \n",
       "33  81752941    2489036  656956         1      ios 2024-11-29 20:23:18.714   \n",
       "34  78363104    3538169  656956         1      ios 2024-11-28 17:08:35.986   \n",
       "35  35545979    3538169  656956         1      ios 2024-11-28 17:14:05.333   \n",
       "36  82457777    3538169  656956         1      ios 2024-11-28 18:00:12.197   \n",
       "\n",
       "        event_type final_order_status shop_id  \n",
       "23   entry_to_shop                NaN    1124  \n",
       "33   entry_to_shop                NaN    1380  \n",
       "34   entry_to_shop          cancelled    7076  \n",
       "35      order_paid          cancelled    7076  \n",
       "36  order_finished          cancelled    7076  "
      ]
     },
     "execution_count": 47,
     "metadata": {},
     "output_type": "execute_result"
    }
   ],
   "source": [
    "# Step 1: Get unique session-level data for stratification\n",
    "df_sessions = df.groupby(\"session_id\").first().reset_index()  # Keep one row per session\n",
    "\n",
    "# Step 2: Separate Control & Test groups\n",
    "df_control_sessions = df_sessions[df_sessions[\"variation\"] == '1']  # Control group\n",
    "df_test_sessions = df_sessions[df_sessions[\"variation\"] == '2']  # Test group\n",
    "\n",
    "# Step 3: Stratified sampling on `platform` while keeping session_id groups\n",
    "df_control_sampled, _ = train_test_split(\n",
    "    df_control_sessions, train_size=62000, stratify=df_control_sessions[\"platform\"], random_state=42\n",
    ")\n",
    "\n",
    "df_test_sampled, _ = train_test_split(\n",
    "    df_test_sessions, train_size=62000, stratify=df_test_sessions[\"platform\"], random_state=42\n",
    ")\n",
    "\n",
    "# Step 4: Merge back sampled sessions with the full dataset to get all events\n",
    "df_control_final = df[df[\"session_id\"].isin(df_control_sampled[\"session_id\"])]\n",
    "df_test_final = df[df[\"session_id\"].isin(df_test_sampled[\"session_id\"])]\n",
    "\n",
    "\n",
    "\n",
    "# Merge both groups\n",
    "df_balanced = pd.concat([df_control_final, df_test_final])\n",
    "df_balanced.head()"
   ]
  },
  {
   "cell_type": "markdown",
   "id": "c65efb8b-a103-4113-bb19-1831190fdc28",
   "metadata": {},
   "source": [
    "#  Users count per variation in Balanced Dataset"
   ]
  },
  {
   "cell_type": "code",
   "execution_count": 51,
   "id": "0356b4fe-455f-4a82-ae0b-e3ad50b92d37",
   "metadata": {},
   "outputs": [
    {
     "data": {
      "text/plain": [
       "variation\n",
       "1    43205\n",
       "2    34766\n",
       "Name: user_id, dtype: int64"
      ]
     },
     "execution_count": 51,
     "metadata": {},
     "output_type": "execute_result"
    }
   ],
   "source": [
    "total_users_balanced=df_balanced.groupby(\"variation\")[\"user_id\"].nunique()\n",
    "total_users_balanced"
   ]
  },
  {
   "cell_type": "markdown",
   "id": "1eae975e-3b46-4e04-90cb-33863f4a632e",
   "metadata": {},
   "source": [
    "# Users count who placed an order in Balanced Dataset"
   ]
  },
  {
   "cell_type": "code",
   "execution_count": 53,
   "id": "08343efd-b38d-41f6-95e8-c7b7ea03d417",
   "metadata": {},
   "outputs": [
    {
     "data": {
      "text/plain": [
       "variation\n",
       "1    16208\n",
       "2    14648\n",
       "Name: user_id, dtype: int64"
      ]
     },
     "execution_count": 53,
     "metadata": {},
     "output_type": "execute_result"
    }
   ],
   "source": [
    "orders_balanced = df_balanced[df_balanced[\"event_type\"] == \"order_paid\"].groupby(\"variation\")['user_id'].nunique()\n",
    "orders_balanced"
   ]
  },
  {
   "cell_type": "markdown",
   "id": "8404d81b-a417-4e98-9df3-a31a940dc30d",
   "metadata": {},
   "source": [
    "# Calculate conversion rate in Balanced Dataset"
   ]
  },
  {
   "cell_type": "code",
   "execution_count": 57,
   "id": "411069c3-07c6-4105-a3a5-5afdb524eee8",
   "metadata": {},
   "outputs": [
    {
     "name": "stdout",
     "output_type": "stream",
     "text": [
      "Conversion Rates:\n",
      "variation\n",
      "1    37.514177\n",
      "2    42.133119\n",
      "Name: user_id, dtype: float64\n"
     ]
    }
   ],
   "source": [
    "conversion_rate_balanced = (orders_balanced / total_users_balanced) * 100\n",
    "print(\"Conversion Rates:\")\n",
    "print(conversion_rate_balanced)"
   ]
  },
  {
   "cell_type": "markdown",
   "id": "3639186d-09ff-4a8f-9459-45c4b725f609",
   "metadata": {},
   "source": [
    "# Contingency_table for conversion_rate in Balanced Dataset"
   ]
  },
  {
   "cell_type": "code",
   "execution_count": 59,
   "id": "db8f89c2-63ff-4c9a-b0d6-d2a70a20536a",
   "metadata": {},
   "outputs": [
    {
     "data": {
      "text/html": [
       "<div>\n",
       "<style scoped>\n",
       "    .dataframe tbody tr th:only-of-type {\n",
       "        vertical-align: middle;\n",
       "    }\n",
       "\n",
       "    .dataframe tbody tr th {\n",
       "        vertical-align: top;\n",
       "    }\n",
       "\n",
       "    .dataframe thead th {\n",
       "        text-align: right;\n",
       "    }\n",
       "</style>\n",
       "<table border=\"1\" class=\"dataframe\">\n",
       "  <thead>\n",
       "    <tr style=\"text-align: right;\">\n",
       "      <th></th>\n",
       "      <th>Converted</th>\n",
       "      <th>Not Converted</th>\n",
       "    </tr>\n",
       "    <tr>\n",
       "      <th>variation</th>\n",
       "      <th></th>\n",
       "      <th></th>\n",
       "    </tr>\n",
       "  </thead>\n",
       "  <tbody>\n",
       "    <tr>\n",
       "      <th>1</th>\n",
       "      <td>16208</td>\n",
       "      <td>26997</td>\n",
       "    </tr>\n",
       "    <tr>\n",
       "      <th>2</th>\n",
       "      <td>14648</td>\n",
       "      <td>20118</td>\n",
       "    </tr>\n",
       "  </tbody>\n",
       "</table>\n",
       "</div>"
      ],
      "text/plain": [
       "           Converted  Not Converted\n",
       "variation                          \n",
       "1              16208          26997\n",
       "2              14648          20118"
      ]
     },
     "execution_count": 59,
     "metadata": {},
     "output_type": "execute_result"
    }
   ],
   "source": [
    "contingency_table = pd.DataFrame({\n",
    "    \"Converted\": orders_balanced,\n",
    "    \"Not Converted\": total_users_balanced - orders_balanced\n",
    "})\n",
    "contingency_table"
   ]
  },
  {
   "cell_type": "markdown",
   "id": "5bb17d14-3d47-43a5-82ab-eeef931d4b2a",
   "metadata": {},
   "source": [
    "# Chi Squuare Test in Balanced Dataset"
   ]
  },
  {
   "cell_type": "code",
   "execution_count": 61,
   "id": "67ea0765-05ad-4a64-9331-3d4faf6de2c3",
   "metadata": {},
   "outputs": [
    {
     "name": "stdout",
     "output_type": "stream",
     "text": [
      "p-value (Conversion Rate): 3.1786176495122135e-39\n"
     ]
    }
   ],
   "source": [
    "chi2, p_value, _, _ = chi2_contingency(contingency_table)\n",
    "print(\"p-value (Conversion Rate):\", p_value)"
   ]
  },
  {
   "cell_type": "markdown",
   "id": "2185792b-3c6b-43d1-8504-81a9173f7917",
   "metadata": {},
   "source": [
    "### p-value: 3.1786176495122135e-39 less than 0.05\n",
    "### This means there is statistically significant difference between these two groups.\n",
    "### Larger images significantly impact order conversion rates\n"
   ]
  },
  {
   "attachments": {},
   "cell_type": "markdown",
   "id": "98b11651-b0d2-45d1-9ba5-f5ee8dd19746",
   "metadata": {},
   "source": [
    "# Order Success Rate Analysis\n",
    "\n",
    "### Success Rate = (Successful Orders / Total Orders) * 100"
   ]
  },
  {
   "cell_type": "code",
   "execution_count": 82,
   "id": "5c8ca801-27e3-444b-9752-f22087c63d71",
   "metadata": {},
   "outputs": [
    {
     "name": "stdout",
     "output_type": "stream",
     "text": [
      "variation\n",
      "1    23910\n",
      "2    13357\n",
      "Name: user_id, dtype: int64\n",
      "variation\n",
      "1    27568\n",
      "2    14770\n",
      "Name: user_id, dtype: int64\n",
      "variation\n",
      "1    86.730992\n",
      "2    90.433311\n",
      "Name: user_id, dtype: float64\n"
     ]
    }
   ],
   "source": [
    "successful_orders = df_orders[df_orders[\"final_order_status\"]==\"successful\"].groupby(\"variation\")[\"user_id\"].nunique()\n",
    "print(successful_orders)\n",
    "\n",
    "total_orders= df_orders.groupby(\"variation\")[\"user_id\"].nunique()\n",
    "print(total_orders)\n",
    "\n",
    "success_rate = (successful_orders / total_orders) * 100\n",
    "print(success_rate)"
   ]
  },
  {
   "cell_type": "code",
   "execution_count": 84,
   "id": "d1ce9d92-7c49-4320-a999-bb925be93457",
   "metadata": {},
   "outputs": [
    {
     "data": {
      "text/html": [
       "<div>\n",
       "<style scoped>\n",
       "    .dataframe tbody tr th:only-of-type {\n",
       "        vertical-align: middle;\n",
       "    }\n",
       "\n",
       "    .dataframe tbody tr th {\n",
       "        vertical-align: top;\n",
       "    }\n",
       "\n",
       "    .dataframe thead th {\n",
       "        text-align: right;\n",
       "    }\n",
       "</style>\n",
       "<table border=\"1\" class=\"dataframe\">\n",
       "  <thead>\n",
       "    <tr style=\"text-align: right;\">\n",
       "      <th></th>\n",
       "      <th>successful_orders</th>\n",
       "      <th>Not successful</th>\n",
       "    </tr>\n",
       "    <tr>\n",
       "      <th>variation</th>\n",
       "      <th></th>\n",
       "      <th></th>\n",
       "    </tr>\n",
       "  </thead>\n",
       "  <tbody>\n",
       "    <tr>\n",
       "      <th>1</th>\n",
       "      <td>23910</td>\n",
       "      <td>3658</td>\n",
       "    </tr>\n",
       "    <tr>\n",
       "      <th>2</th>\n",
       "      <td>13357</td>\n",
       "      <td>1413</td>\n",
       "    </tr>\n",
       "  </tbody>\n",
       "</table>\n",
       "</div>"
      ],
      "text/plain": [
       "           successful_orders  Not successful\n",
       "variation                                   \n",
       "1                      23910            3658\n",
       "2                      13357            1413"
      ]
     },
     "execution_count": 84,
     "metadata": {},
     "output_type": "execute_result"
    }
   ],
   "source": [
    "contingency_table = pd.DataFrame({\n",
    "    \"successful_orders\": successful_orders,\n",
    "    \"Not successful\": total_orders - successful_orders\n",
    "})\n",
    "contingency_table"
   ]
  },
  {
   "cell_type": "code",
   "execution_count": 86,
   "id": "5ba89a3a-a53f-4981-8388-0c9d344e729a",
   "metadata": {},
   "outputs": [
    {
     "name": "stdout",
     "output_type": "stream",
     "text": [
      "p-value (Conversion Rate): 5.955736807347403e-29\n"
     ]
    }
   ],
   "source": [
    "chi2, p_value, _, _ = chi2_contingency(contingency_table)\n",
    "print(\"p-value (Conversion Rate):\", p_value)"
   ]
  },
  {
   "cell_type": "markdown",
   "id": "d22dbadf-22b0-4da5-a066-9a964ba0802c",
   "metadata": {},
   "source": [
    "## Order Success Rate in Balanced Data"
   ]
  },
  {
   "cell_type": "code",
   "execution_count": 92,
   "id": "24d9ba67-c8f0-43a6-aaa5-a9ba8d40c819",
   "metadata": {},
   "outputs": [
    {
     "name": "stdout",
     "output_type": "stream",
     "text": [
      "variation\n",
      "1    13877\n",
      "2    13244\n",
      "Name: user_id, dtype: int64\n",
      "variation\n",
      "1    16208\n",
      "2    14648\n",
      "Name: user_id, dtype: int64\n",
      "variation\n",
      "1    85.618213\n",
      "2    90.415074\n",
      "Name: user_id, dtype: float64\n"
     ]
    }
   ],
   "source": [
    "df_balanced_orders = df_balanced[df_balanced[\"event_type\"] == \"order_paid\"]\n",
    "\n",
    "successful_balanced_orders = df_balanced_orders[df_balanced_orders[\"final_order_status\"]==\"successful\"].groupby(\"variation\")[\"user_id\"].nunique()\n",
    "print(successful_balanced_orders)\n",
    "\n",
    "total_balanced_orders = df_balanced_orders.groupby(\"variation\")[\"user_id\"].nunique()\n",
    "print(total_balanced_orders)\n",
    "\n",
    "success_balanced_rate = (successful_balanced_orders / total_balanced_orders) * 100\n",
    "print(success_balanced_rate)\n"
   ]
  },
  {
   "cell_type": "code",
   "execution_count": 94,
   "id": "3089a5ba-14a7-4aab-9d87-2f3afdde5b05",
   "metadata": {},
   "outputs": [
    {
     "data": {
      "text/html": [
       "<div>\n",
       "<style scoped>\n",
       "    .dataframe tbody tr th:only-of-type {\n",
       "        vertical-align: middle;\n",
       "    }\n",
       "\n",
       "    .dataframe tbody tr th {\n",
       "        vertical-align: top;\n",
       "    }\n",
       "\n",
       "    .dataframe thead th {\n",
       "        text-align: right;\n",
       "    }\n",
       "</style>\n",
       "<table border=\"1\" class=\"dataframe\">\n",
       "  <thead>\n",
       "    <tr style=\"text-align: right;\">\n",
       "      <th></th>\n",
       "      <th>successful_orders</th>\n",
       "      <th>Not successful</th>\n",
       "    </tr>\n",
       "    <tr>\n",
       "      <th>variation</th>\n",
       "      <th></th>\n",
       "      <th></th>\n",
       "    </tr>\n",
       "  </thead>\n",
       "  <tbody>\n",
       "    <tr>\n",
       "      <th>1</th>\n",
       "      <td>13877</td>\n",
       "      <td>2331</td>\n",
       "    </tr>\n",
       "    <tr>\n",
       "      <th>2</th>\n",
       "      <td>13244</td>\n",
       "      <td>1404</td>\n",
       "    </tr>\n",
       "  </tbody>\n",
       "</table>\n",
       "</div>"
      ],
      "text/plain": [
       "           successful_orders  Not successful\n",
       "variation                                   \n",
       "1                      13877            2331\n",
       "2                      13244            1404"
      ]
     },
     "execution_count": 94,
     "metadata": {},
     "output_type": "execute_result"
    }
   ],
   "source": [
    "contingency_table = pd.DataFrame({\n",
    "    \"successful_orders\": successful_balanced_orders,\n",
    "    \"Not successful\": total_balanced_orders - successful_balanced_orders\n",
    "})\n",
    "contingency_table"
   ]
  },
  {
   "cell_type": "code",
   "execution_count": 96,
   "id": "5741941a-ebc8-4a7b-a068-bc39a0bf6cd1",
   "metadata": {},
   "outputs": [
    {
     "name": "stdout",
     "output_type": "stream",
     "text": [
      "p-value (Conversion Rate): 5.661217389603234e-38\n"
     ]
    }
   ],
   "source": [
    "chi2, p_value, _, _ = chi2_contingency(contingency_table)\n",
    "print(\"p-value (Conversion Rate):\", p_value)"
   ]
  },
  {
   "attachments": {},
   "cell_type": "markdown",
   "id": "feb9c307-e8b2-45fb-a628-43b289911c6b",
   "metadata": {},
   "source": [
    "# Platform-Based Analysis with Original Data "
   ]
  },
  {
   "cell_type": "code",
   "execution_count": 103,
   "id": "b6c9feda-436b-4921-82f2-353b805de368",
   "metadata": {},
   "outputs": [
    {
     "name": "stdout",
     "output_type": "stream",
     "text": [
      "Platform Conversion Rates:\n",
      "variation  platform\n",
      "1          android     41.320896\n",
      "           ios         44.950373\n",
      "2          android     40.882605\n",
      "           ios         45.291137\n",
      "Name: user_id, dtype: float64\n",
      "Platform Success Rates:\n",
      "variation  platform\n",
      "1          android     86.572250\n",
      "           ios         87.070339\n",
      "2          android     90.132563\n",
      "           ios         91.070298\n",
      "Name: user_id, dtype: float64\n"
     ]
    }
   ],
   "source": [
    "platform_conversion = df[df[\"event_type\"] == \"order_paid\"].groupby([\"variation\", \"platform\"])[\"user_id\"].nunique() / df.groupby([\"variation\", \"platform\"])[\"user_id\"].nunique() * 100\n",
    "platform_success = df_orders[df_orders[\"final_order_status\"] == \"successful\"].groupby([\"variation\", \"platform\"])[\"user_id\"].nunique() / df_orders.groupby([\"variation\", \"platform\"])[\"user_id\"].nunique() * 100\n",
    "print(\"Platform Conversion Rates:\")\n",
    "print(platform_conversion)\n",
    "print(\"Platform Success Rates:\")\n",
    "print(platform_success)"
   ]
  },
  {
   "attachments": {},
   "cell_type": "markdown",
   "id": "b4e6179c-255e-4d84-855a-5439dc3d1e58",
   "metadata": {},
   "source": [
    "# Platform-Based Analysis with Balanced Data "
   ]
  },
  {
   "cell_type": "code",
   "execution_count": 106,
   "id": "3db95a6b-74b8-46fa-91fa-1751539d089f",
   "metadata": {},
   "outputs": [
    {
     "name": "stdout",
     "output_type": "stream",
     "text": [
      "Platform Conversion Rates:\n",
      "variation  platform\n",
      "1          android     36.314570\n",
      "           ios         40.299885\n",
      "2          android     40.825368\n",
      "           ios         45.201656\n",
      "Name: user_id, dtype: float64\n",
      "Platform Success Rates:\n",
      "variation  platform\n",
      "1          android     85.474606\n",
      "           ios         85.918718\n",
      "2          android     90.132637\n",
      "           ios         91.013629\n",
      "Name: user_id, dtype: float64\n"
     ]
    }
   ],
   "source": [
    "platform_conversion = df_balanced[df_balanced[\"event_type\"] == \"order_paid\"].groupby([\"variation\", \"platform\"])[\"user_id\"].nunique() / df_balanced.groupby([\"variation\", \"platform\"])[\"user_id\"].nunique() * 100\n",
    "platform_success = df_balanced_orders[df_balanced_orders[\"final_order_status\"] == \"successful\"].groupby([\"variation\", \"platform\"])[\"user_id\"].nunique() / df_balanced_orders.groupby([\"variation\", \"platform\"])[\"user_id\"].nunique() * 100\n",
    "print(\"Platform Conversion Rates:\")\n",
    "print(platform_conversion)\n",
    "print(\"Platform Success Rates:\")\n",
    "print(platform_success)"
   ]
  },
  {
   "cell_type": "markdown",
   "id": "0a52c831-75ec-44a5-8abf-267006b4e9cd",
   "metadata": {},
   "source": [
    "# Entry_to_Shop Analysis with original data"
   ]
  },
  {
   "cell_type": "code",
   "execution_count": 109,
   "id": "d53172b3-c8fe-44f9-8a4f-253741e2745b",
   "metadata": {},
   "outputs": [
    {
     "name": "stdout",
     "output_type": "stream",
     "text": [
      "Total Shop Entries: 168215\n",
      "Unique Users Who Entered a Shop: 96293\n",
      "Shop Entry Rate: 96.29%\n",
      "\n",
      "Shop Entries by Variation:\n",
      "variation\n",
      "1    109325\n",
      "2     58890\n",
      "Name: count, dtype: int64\n",
      "\n",
      "Conversion Rate After Shop Entry: 43.97%\n"
     ]
    }
   ],
   "source": [
    "# Filter only 'entry_to_shop' events\n",
    "df_shop_entries = df[df[\"event_type\"] == \"entry_to_shop\"]\n",
    "\n",
    "# Total number of shop entries\n",
    "total_shop_entries = df_shop_entries.shape[0]\n",
    "\n",
    "# Unique users who visited a shop\n",
    "unique_users_shop = df_shop_entries[\"user_id\"].nunique()\n",
    "\n",
    "# Breakdown by variation\n",
    "shop_entries_by_variation = df_shop_entries[\"variation\"].value_counts()\n",
    "\n",
    "# Calculate the percentage of users who visited a shop\n",
    "total_users = df[\"user_id\"].nunique()\n",
    "shop_entry_rate = (unique_users_shop / total_users) * 100\n",
    "\n",
    "# Conversion rate for users who entered a shop\n",
    "users_with_orders = df[df[\"event_type\"] == \"order_paid\"][\"user_id\"].nunique()\n",
    "conversion_rate_after_shop_entry = (users_with_orders / unique_users_shop) * 100\n",
    "\n",
    "# Print results\n",
    "print(f\"Total Shop Entries: {total_shop_entries}\")\n",
    "print(f\"Unique Users Who Entered a Shop: {unique_users_shop}\")\n",
    "print(f\"Shop Entry Rate: {shop_entry_rate:.2f}%\")\n",
    "print(\"\\nShop Entries by Variation:\")\n",
    "print(shop_entries_by_variation)\n",
    "\n",
    "print(f\"\\nConversion Rate After Shop Entry: {conversion_rate_after_shop_entry:.2f}%\")\n"
   ]
  },
  {
   "cell_type": "code",
   "execution_count": 115,
   "id": "7dc60eff-e63f-4410-943a-651eb8861e0c",
   "metadata": {},
   "outputs": [
    {
     "name": "stdout",
     "output_type": "stream",
     "text": [
      "Shop Entry Rate by Variation:\n",
      "variation\n",
      "1    96.278462\n",
      "2    96.320000\n",
      "Name: user_id, dtype: float64\n"
     ]
    }
   ],
   "source": [
    "# Count total unique users per variation\n",
    "total_users_per_variation = df.groupby(\"variation\")[\"user_id\"].nunique()\n",
    "\n",
    "# Count unique users who triggered 'entry_to_shop' per variation\n",
    "shop_entries_per_variation = df[df[\"event_type\"] == \"entry_to_shop\"].groupby(\"variation\")[\"user_id\"].nunique()\n",
    "\n",
    "# Calculate Shop Entry Rate\n",
    "shop_entry_rate = (shop_entries_per_variation / total_users_per_variation) * 100\n",
    "\n",
    "# Print results\n",
    "print(\"Shop Entry Rate by Variation:\")\n",
    "print(shop_entry_rate)"
   ]
  },
  {
   "cell_type": "markdown",
   "id": "ab5b2691-87a1-48f2-86ba-38eccb14dad9",
   "metadata": {},
   "source": [
    "# Entry_to_Shop Analysis with balanced data"
   ]
  },
  {
   "cell_type": "code",
   "execution_count": 112,
   "id": "f113f9a0-074f-4c01-bbd7-1fa4532e43ec",
   "metadata": {},
   "outputs": [
    {
     "name": "stdout",
     "output_type": "stream",
     "text": [
      "Total Shop Entries: 116291\n",
      "Unique Users Who Entered a Shop: 74773\n",
      "Shop Entry Rate: 95.90%\n",
      "\n",
      "Shop Entries by Variation:\n",
      "variation\n",
      "2    58219\n",
      "1    58072\n",
      "Name: count, dtype: int64\n",
      "\n",
      "Conversion Rate After Shop Entry: 41.27%\n"
     ]
    }
   ],
   "source": [
    "# Filter only 'entry_to_shop' events\n",
    "df_shop_entries = df_balanced[df_balanced[\"event_type\"] == \"entry_to_shop\"]\n",
    "\n",
    "# Total number of shop entries\n",
    "total_shop_entries = df_shop_entries.shape[0]\n",
    "\n",
    "# Unique users who visited a shop\n",
    "unique_users_shop = df_shop_entries[\"user_id\"].nunique()\n",
    "\n",
    "# Breakdown by variation\n",
    "shop_entries_by_variation = df_shop_entries[\"variation\"].value_counts()\n",
    "\n",
    "# Calculate the percentage of users who visited a shop\n",
    "total_users = df_balanced[\"user_id\"].nunique()\n",
    "shop_entry_rate = (unique_users_shop / total_users) * 100\n",
    "\n",
    "# Conversion rate for users who entered a shop\n",
    "users_with_orders = df_balanced[df_balanced[\"event_type\"] == \"order_paid\"][\"user_id\"].nunique()\n",
    "conversion_rate_after_shop_entry = (users_with_orders / unique_users_shop) * 100\n",
    "\n",
    "# Print results\n",
    "print(f\"Total Shop Entries: {total_shop_entries}\")\n",
    "print(f\"Unique Users Who Entered a Shop: {unique_users_shop}\")\n",
    "print(f\"Shop Entry Rate: {shop_entry_rate:.2f}%\")\n",
    "print(\"\\nShop Entries by Variation:\")\n",
    "print(shop_entries_by_variation)\n",
    "\n",
    "print(f\"\\nConversion Rate After Shop Entry: {conversion_rate_after_shop_entry:.2f}%\")\n"
   ]
  },
  {
   "cell_type": "code",
   "execution_count": 117,
   "id": "fd5155a4-e310-473e-a0be-51429cfb4c6a",
   "metadata": {},
   "outputs": [
    {
     "name": "stdout",
     "output_type": "stream",
     "text": [
      "Shop Entry Rate by Variation:\n",
      "variation\n",
      "1    95.572272\n",
      "2    96.303860\n",
      "Name: user_id, dtype: float64\n"
     ]
    }
   ],
   "source": [
    "# Count total unique users per variation\n",
    "total_users_per_variation = df_balanced.groupby(\"variation\")[\"user_id\"].nunique()\n",
    "\n",
    "# Count unique users who triggered 'entry_to_shop' per variation\n",
    "shop_entries_per_variation = df_balanced[df_balanced[\"event_type\"] == \"entry_to_shop\"].groupby(\"variation\")[\"user_id\"].nunique()\n",
    "\n",
    "# Calculate Shop Entry Rate\n",
    "shop_entry_rate = (shop_entries_per_variation / total_users_per_variation) * 100\n",
    "\n",
    "# Print results\n",
    "print(\"Shop Entry Rate by Variation:\")\n",
    "print(shop_entry_rate)"
   ]
  },
  {
   "attachments": {},
   "cell_type": "markdown",
   "id": "7da7d19d-97b8-45a4-b830-c64b7c6b7cf5",
   "metadata": {},
   "source": [
    "# User Behavior Insights\n",
    "\n",
    "## 1. Platform-Specific Behavior\n",
    "\n",
    "#### iOS users demonstrated a higher conversion rate in Variation 2 compared to Android users, indicating platform influences behavior\n",
    "\n",
    "##  2. Shop Entry Rate Differences\r\n",
    "####  Users presented with larger images in Variation 2 showed an increased shop entry rate compared to Variation 1.\n",
    "##  3. Conversion Patternse\n",
    "####  Variation 2 led to a statistically significant increase in order placements, demonstrating effective design impact. \n",
    "##  4. Order Success & Cancellation\n",
    "\n",
    "####  Variation 2's lower refund and cancellation rates indicate higher user confidence in purchases.\r\n"
   ]
  },
  {
   "attachments": {},
   "cell_type": "markdown",
   "id": "1f72eaf9-e121-4738-b616-8d6f818387d7",
   "metadata": {},
   "source": [
    "# Business Recommendations\n",
    "\n",
    "## 1. Implement Larger Images\n",
    "\r",
    "#### Rolling out larger images across platforms can significantly enhance user engagement and boost conversion rates.\n",
    "\n",
    "## 2. Optimize for Each Platform\n",
    "\n",
    "#### Optimizing UI design for different user segments ensures the best possible experience and maximizes impact.\n",
    "\n",
    "\n",
    "## 3. Encourage Shop Visits\n",
    "\n",
    "#### Using personalized promotions can effectively drive customers into shops, increasing the likelihood of in-store purchases\n",
    "\n",
    "## 4. Regular Performance Analysisa\n",
    "#### Regular analysis of performance data with balanced datasets helps to derive accurate insights and improve strategies.\r\n",
    "\n"
   ]
  },
  {
   "cell_type": "code",
   "execution_count": null,
   "id": "dc5a1cf2-4ed0-4d84-804e-fe831b2d1f15",
   "metadata": {},
   "outputs": [],
   "source": []
  }
 ],
 "metadata": {
  "kernelspec": {
   "display_name": "Python [conda env:base] *",
   "language": "python",
   "name": "conda-base-py"
  },
  "language_info": {
   "codemirror_mode": {
    "name": "ipython",
    "version": 3
   },
   "file_extension": ".py",
   "mimetype": "text/x-python",
   "name": "python",
   "nbconvert_exporter": "python",
   "pygments_lexer": "ipython3",
   "version": "3.11.7"
  }
 },
 "nbformat": 4,
 "nbformat_minor": 5
}
